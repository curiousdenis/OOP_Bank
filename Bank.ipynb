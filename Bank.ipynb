{
 "cells": [
  {
   "cell_type": "code",
   "execution_count": 3,
   "id": "05603693",
   "metadata": {
    "scrolled": true
   },
   "outputs": [],
   "source": [
    "class ExceptionHandling(Exception):\n",
    "    pass\n",
    "\n",
    "class Bank():\n",
    "    def __init__(self, name, password, balance):\n",
    "        self.name = name\n",
    "        self.password = password\n",
    "        self.balance = self.check_balance(balance)\n",
    "        \n",
    "    def check_balance(self, balance):\n",
    "        try:\n",
    "            amount = int(balance)\n",
    "        except ValueError:\n",
    "            raise ExceptionHandling('Amount must be integer')\n",
    "        if amount <0:\n",
    "            raise ExceptionHandling('Amount must be positive')\n",
    "        return amount\n",
    "        \n",
    "    def check_password(self, password):\n",
    "        if password != self.password:\n",
    "            raise ExceptionHandling('Incorrect password for this account')\n",
    "        return password\n",
    "    \n",
    "    def check_withdrawl(self, amountToWithdraw):\n",
    "        if self.balance < amountToWithdraw:\n",
    "            raise ExceptionHandling('You cannot withdraw more than you have in your account')\n",
    "        return self.balance\n",
    "    \n",
    "    def account(self, password):\n",
    "\n",
    "        password = self.check_password(password)\n",
    "        if password:\n",
    "            print('Your account is: ')\n",
    "            print('Your name is: {0}, Current Balance is: {1}'.format(self.name, self.balance))\n",
    "            \n",
    "    def deposit(self, password, amountToDeposit):\n",
    "        amount = self.check_balance(amountToDeposit)\n",
    "        password = self.check_password(password)\n",
    "        if password:\n",
    "            self.balance += amount \n",
    "            return print('You have in your account: {}'.format(self.balance))\n",
    "                         \n",
    "    def withdrawl(self, password, amountToWithdraw):           \n",
    "        amount = self.check_balance(amountToWithdraw)\n",
    "        password = self.check_password(password)\n",
    "        balance = self.check_withdrawl(amountToWithdraw)\n",
    "        if balance and password:\n",
    "            self.balance -= amount\n",
    "            return print('You have in your account: {}'.format(self.balance)) \n",
    "                                            \n",
    "    def getbalance(self, password):\n",
    "        password = self.check_password(password)\n",
    "        if password:\n",
    "            return print('You have in your account: {}'.format(self.balance)) \n",
    "    "
   ]
  },
  {
   "cell_type": "code",
   "execution_count": null,
   "id": "7fd96ba9",
   "metadata": {},
   "outputs": [],
   "source": []
  }
 ],
 "metadata": {
  "kernelspec": {
   "display_name": "Python 3 (ipykernel)",
   "language": "python",
   "name": "python3"
  },
  "language_info": {
   "codemirror_mode": {
    "name": "ipython",
    "version": 3
   },
   "file_extension": ".py",
   "mimetype": "text/x-python",
   "name": "python",
   "nbconvert_exporter": "python",
   "pygments_lexer": "ipython3",
   "version": "3.9.7"
  }
 },
 "nbformat": 4,
 "nbformat_minor": 5
}
