{
 "cells": [
  {
   "cell_type": "code",
   "execution_count": 12,
   "id": "c7d4f6ab",
   "metadata": {
    "scrolled": true
   },
   "outputs": [],
   "source": [
    "import import_ipynb\n",
    "from Bank_objectmanager import Manager"
   ]
  },
  {
   "cell_type": "code",
   "execution_count": 13,
   "id": "86362f8e",
   "metadata": {},
   "outputs": [],
   "source": [
    "accounts = Manager()"
   ]
  },
  {
   "cell_type": "code",
   "execution_count": 16,
   "id": "b2af90ff",
   "metadata": {
    "scrolled": false
   },
   "outputs": [
    {
     "name": "stdout",
     "output_type": "stream",
     "text": [
      "**What you want to do?**\n",
      "Do you want to create an account?: press a\n",
      "Do you want to delete an account?: press e\n",
      "Do you want to deposit?: press d\n",
      "Do you want to withdraw?: press w\n",
      "Do you want to get balance?: press b\n",
      "Do you want to quite?: press q\n",
      "Press here: a\n",
      "\n",
      "\n",
      "**Creating new account**\n",
      "What is your name: Denis\n",
      "What is your password: q\n",
      "What is your starting amount: 0\n",
      "Your id is: 0\n",
      "\n",
      "\n",
      "Account has been created successfully!\n",
      "\n",
      "\n",
      "**What you want to do?**\n",
      "Do you want to create an account?: press a\n",
      "Do you want to delete an account?: press e\n",
      "Do you want to deposit?: press d\n",
      "Do you want to withdraw?: press w\n",
      "Do you want to get balance?: press b\n",
      "Do you want to quite?: press q\n",
      "Press here: w\n",
      "\n",
      "\n",
      "**Withdraw**\n",
      "What is your ID: 0\n",
      "What is your password: q\n",
      "What is your withdraw amount: -10\n",
      "\n",
      "\n"
     ]
    },
    {
     "ename": "NameError",
     "evalue": "name 'ExceptionHandling' is not defined",
     "output_type": "error",
     "traceback": [
      "\u001b[1;31m---------------------------------------------------------------------------\u001b[0m",
      "\u001b[1;31mExceptionHandling\u001b[0m                         Traceback (most recent call last)",
      "\u001b[1;32m~\\AppData\\Local\\Temp/ipykernel_1312/183222639.py\u001b[0m in \u001b[0;36m<module>\u001b[1;34m\u001b[0m\n\u001b[0;32m     30\u001b[0m         \u001b[1;32mif\u001b[0m \u001b[0maction\u001b[0m \u001b[1;33m==\u001b[0m \u001b[1;34m'w'\u001b[0m\u001b[1;33m:\u001b[0m\u001b[1;33m\u001b[0m\u001b[1;33m\u001b[0m\u001b[0m\n\u001b[1;32m---> 31\u001b[1;33m             \u001b[0maccounts\u001b[0m\u001b[1;33m.\u001b[0m\u001b[0mwithdraw\u001b[0m\u001b[1;33m(\u001b[0m\u001b[1;33m)\u001b[0m\u001b[1;33m\u001b[0m\u001b[1;33m\u001b[0m\u001b[0m\n\u001b[0m\u001b[0;32m     32\u001b[0m     \u001b[1;32mexcept\u001b[0m \u001b[0mExceptionHandling\u001b[0m\u001b[1;33m:\u001b[0m\u001b[1;33m\u001b[0m\u001b[1;33m\u001b[0m\u001b[0m\n",
      "\u001b[1;32m~\\Desktop\\education\\OOP\\Bank_objectmanager.ipynb\u001b[0m in \u001b[0;36mwithdraw\u001b[1;34m(self)\u001b[0m\n",
      "\u001b[1;32m~\\Desktop\\education\\OOP\\Bank.ipynb\u001b[0m in \u001b[0;36mwithdrawl\u001b[1;34m(self, password, amountToWithdraw)\u001b[0m\n",
      "\u001b[1;32m~\\Desktop\\education\\OOP\\Bank.ipynb\u001b[0m in \u001b[0;36mcheck_balance\u001b[1;34m(self, balance)\u001b[0m\n",
      "\u001b[1;31mExceptionHandling\u001b[0m: Amount must be positive",
      "\nDuring handling of the above exception, another exception occurred:\n",
      "\u001b[1;31mNameError\u001b[0m                                 Traceback (most recent call last)",
      "\u001b[1;32m~\\AppData\\Local\\Temp/ipykernel_1312/183222639.py\u001b[0m in \u001b[0;36m<module>\u001b[1;34m\u001b[0m\n\u001b[0;32m     30\u001b[0m         \u001b[1;32mif\u001b[0m \u001b[0maction\u001b[0m \u001b[1;33m==\u001b[0m \u001b[1;34m'w'\u001b[0m\u001b[1;33m:\u001b[0m\u001b[1;33m\u001b[0m\u001b[1;33m\u001b[0m\u001b[0m\n\u001b[0;32m     31\u001b[0m             \u001b[0maccounts\u001b[0m\u001b[1;33m.\u001b[0m\u001b[0mwithdraw\u001b[0m\u001b[1;33m(\u001b[0m\u001b[1;33m)\u001b[0m\u001b[1;33m\u001b[0m\u001b[1;33m\u001b[0m\u001b[0m\n\u001b[1;32m---> 32\u001b[1;33m     \u001b[1;32mexcept\u001b[0m \u001b[0mExceptionHandling\u001b[0m\u001b[1;33m:\u001b[0m\u001b[1;33m\u001b[0m\u001b[1;33m\u001b[0m\u001b[0m\n\u001b[0m\u001b[0;32m     33\u001b[0m         \u001b[0mprint\u001b[0m\u001b[1;33m(\u001b[0m\u001b[1;34m'error'\u001b[0m\u001b[1;33m)\u001b[0m\u001b[1;33m\u001b[0m\u001b[1;33m\u001b[0m\u001b[0m\n",
      "\u001b[1;31mNameError\u001b[0m: name 'ExceptionHandling' is not defined"
     ]
    }
   ],
   "source": [
    "while True:\n",
    "    print('**What you want to do?**')\n",
    "    print('Do you want to create an account?: press a')\n",
    "    print('Do you want to delete an account?: press e')\n",
    "    print('Do you want to deposit?: press d')\n",
    "    print('Do you want to withdraw?: press w')\n",
    "    print('Do you want to get balance?: press b')\n",
    "    print('Do you want to quite?: press q')\n",
    "    \n",
    "    action = str(input('Press here: ')).lower()\n",
    "    action = action[0]\n",
    "    print('\\n')\n",
    "    \n",
    "    if action == 'a':\n",
    "        accounts.create_account()\n",
    "        \n",
    "    elif action == 'e':\n",
    "        accounts.delete_account()\n",
    "        \n",
    "    elif action == 'd':\n",
    "        accounts.deposit()\n",
    "        \n",
    "    elif action == 'w':\n",
    "        accounts.withdraw()\n",
    " \n",
    "    elif action == 'b':\n",
    "        accounts.balance()\n",
    "    \n",
    "    elif action == 'q':\n",
    "        break"
   ]
  }
 ],
 "metadata": {
  "kernelspec": {
   "display_name": "Python 3 (ipykernel)",
   "language": "python",
   "name": "python3"
  },
  "language_info": {
   "codemirror_mode": {
    "name": "ipython",
    "version": 3
   },
   "file_extension": ".py",
   "mimetype": "text/x-python",
   "name": "python",
   "nbconvert_exporter": "python",
   "pygments_lexer": "ipython3",
   "version": "3.9.7"
  }
 },
 "nbformat": 4,
 "nbformat_minor": 5
}
